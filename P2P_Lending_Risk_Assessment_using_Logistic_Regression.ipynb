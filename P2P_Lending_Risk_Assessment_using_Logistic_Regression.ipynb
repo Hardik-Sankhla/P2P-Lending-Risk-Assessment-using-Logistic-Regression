{
  "nbformat": 4,
  "nbformat_minor": 0,
  "metadata": {
    "colab": {
      "provenance": [],
      "gpuType": "V28",
      "authorship_tag": "ABX9TyPypDrsvgMyWibCQgALrEYn",
      "include_colab_link": true
    },
    "kernelspec": {
      "name": "python3",
      "display_name": "Python 3"
    },
    "language_info": {
      "name": "python"
    },
    "accelerator": "TPU"
  },
  "cells": [
    {
      "cell_type": "markdown",
      "metadata": {
        "id": "view-in-github",
        "colab_type": "text"
      },
      "source": [
        "<a href=\"https://colab.research.google.com/github/Hardik-Sankhla/P2P-Lending-Risk-Assessment-using-Logistic-Regression/blob/main/P2P_Lending_Risk_Assessment_using_Logistic_Regression.ipynb\" target=\"_parent\"><img src=\"https://colab.research.google.com/assets/colab-badge.svg\" alt=\"Open In Colab\"/></a>"
      ]
    },
    {
      "cell_type": "code",
      "source": [
        "import pandas as pd\n",
        "import numpy as np\n",
        "from sklearn.model_selection import train_test_split\n",
        "from sklearn.linear_model import LogisticRegression\n",
        "from sklearn.metrics import classification_report\n",
        "from sklearn.preprocessing import StandardScaler\n",
        "import matplotlib.pyplot as plt\n",
        "import joblib\n",
        "from google.colab import files\n",
        "import os\n",
        "\n",
        "# 1. Simulate P2P lending data (e.g., borrower financial profile, loan information)\n",
        "np.random.seed(42)\n",
        "data = {\n",
        "    'credit_score': np.random.randint(600, 850, 1000),  # Credit score (600-850)\n",
        "    'loan_amount': np.random.randint(1000, 50000, 1000),  # Loan amount in USD\n",
        "    'loan_term': np.random.choice([12, 24, 36, 48, 60], 1000),  # Loan term in months\n",
        "    'annual_income': np.random.randint(20000, 100000, 1000),  # Borrower's annual income\n",
        "    'default': np.random.choice([0, 1], 1000)  # 0 = No default, 1 = Default\n",
        "}\n",
        "\n",
        "df = pd.DataFrame(data)\n",
        "\n",
        "# 2. Define features and target variable\n",
        "X = df[['credit_score', 'loan_amount', 'loan_term', 'annual_income']]\n",
        "y = df['default']\n",
        "\n",
        "# 3. Scale the features\n",
        "scaler = StandardScaler()\n",
        "X_scaled = scaler.fit_transform(X)\n",
        "\n",
        "# 4. Train/test split\n",
        "X_train, X_test, y_train, y_test = train_test_split(X_scaled, y, test_size=0.2, random_state=42)\n",
        "\n",
        "# 5. Train the logistic regression model\n",
        "model = LogisticRegression()\n",
        "model.fit(X_train, y_train)\n",
        "\n",
        "# 6. Make predictions\n",
        "y_pred = model.predict(X_test)\n",
        "\n",
        "# 7. Evaluate the model\n",
        "print(\"P2P Lending Risk Assessment Report:\\n\")\n",
        "print(classification_report(y_test, y_pred))\n",
        "\n",
        "# 8. Visualize the predicted default probability (e.g., using probability scores)\n",
        "y_prob = model.predict_proba(X_test)[:, 1]  # Probability of default (class 1)\n",
        "plt.figure(figsize=(10, 6))\n",
        "plt.hist(y_prob, bins=30, color='blue', edgecolor='black', alpha=0.7)\n",
        "plt.title(\"Probability of Loan Default\")\n",
        "plt.xlabel(\"Probability\")\n",
        "plt.ylabel(\"Frequency\")\n",
        "plt.grid(True)\n",
        "plt.show()\n",
        "\n",
        "# Ensure the 'model/' directory exists\n",
        "os.makedirs('model', exist_ok=True)\n",
        "\n",
        "# Save the model and scaler to disk\n",
        "joblib.dump(model, \"model/logistic_model.pkl\")\n",
        "joblib.dump(scaler, \"model/scaler.pkl\")\n",
        "\n",
        "# Download the saved model and scaler\n",
        "files.download(\"model/logistic_model.pkl\")\n",
        "files.download(\"model/scaler.pkl\")\n"
      ],
      "metadata": {
        "colab": {
          "base_uri": "https://localhost:8080/",
          "height": 635
        },
        "id": "4kPyhjsgBxt2",
        "outputId": "8171fd00-e2a6-4684-9c24-a593fad26717"
      },
      "execution_count": null,
      "outputs": [
        {
          "output_type": "stream",
          "name": "stdout",
          "text": [
            "P2P Lending Risk Assessment Report:\n",
            "\n",
            "              precision    recall  f1-score   support\n",
            "\n",
            "           0       0.49      0.89      0.63        96\n",
            "           1       0.59      0.15      0.24       104\n",
            "\n",
            "    accuracy                           0.51       200\n",
            "   macro avg       0.54      0.52      0.44       200\n",
            "weighted avg       0.54      0.51      0.43       200\n",
            "\n"
          ]
        },
        {
          "output_type": "display_data",
          "data": {
            "text/plain": [
              "<Figure size 1000x600 with 1 Axes>"
            ],
            "image/png": "[encoded data removed]"
          },
          "metadata": {}
        },
        {
          "output_type": "display_data",
          "data": {
            "text/plain": [
              "<IPython.core.display.Javascript object>"
            ],
            "application/javascript": [
              "\n",
              "    async function download(id, filename, size) {\n",
              "      if (!google.colab.kernel.accessAllowed) {\n",
              "        return;\n",
              "      }\n",
              "      const div = document.createElement('div');\n",
              "      const label = document.createElement('label');\n",
              "      label.textContent = `Downloading \"${filename}\": `;\n",
              "      div.appendChild(label);\n",
              "      const progress = document.createElement('progress');\n",
              "      progress.max = size;\n",
              "      div.appendChild(progress);\n",
              "      document.body.appendChild(div);\n",
              "\n",
              "      const buffers = [];\n",
              "      let downloaded = 0;\n",
              "\n",
              "      const channel = await google.colab.kernel.comms.open(id);\n",
              "      // Send a message to notify the kernel that we're ready.\n",
              "      channel.send({})\n",
              "\n",
              "      for await (const message of channel.messages) {\n",
              "        // Send a message to notify the kernel that we're ready.\n",
              "        channel.send({})\n",
              "        if (message.buffers) {\n",
              "          for (const buffer of message.buffers) {\n",
              "            buffers.push(buffer);\n",
              "            downloaded += buffer.byteLength;\n",
              "            progress.value = downloaded;\n",
              "          }\n",
              "        }\n",
              "      }\n",
              "      const blob = new Blob(buffers, {type: 'application/binary'});\n",
              "      const a = document.createElement('a');\n",
              "      a.href = window.URL.createObjectURL(blob);\n",
              "      a.download = filename;\n",
              "      div.appendChild(a);\n",
              "      a.click();\n",
              "      div.remove();\n",
              "    }\n",
              "  "
            ]
          },
          "metadata": {}
        },
        {
          "output_type": "display_data",
          "data": {
            "text/plain": [
              "<IPython.core.display.Javascript object>"
            ],
            "application/javascript": [
              "download(\"download_35b958b9-06fc-45b3-a5ef-e29378aa3b20\", \"logistic_model.pkl\", 895)"
            ]
          },
          "metadata": {}
        },
        {
          "output_type": "display_data",
          "data": {
            "text/plain": [
              "<IPython.core.display.Javascript object>"
            ],
            "application/javascript": [
              "\n",
              "    async function download(id, filename, size) {\n",
              "      if (!google.colab.kernel.accessAllowed) {\n",
              "        return;\n",
              "      }\n",
              "      const div = document.createElement('div');\n",
              "      const label = document.createElement('label');\n",
              "      label.textContent = `Downloading \"${filename}\": `;\n",
              "      div.appendChild(label);\n",
              "      const progress = document.createElement('progress');\n",
              "      progress.max = size;\n",
              "      div.appendChild(progress);\n",
              "      document.body.appendChild(div);\n",
              "\n",
              "      const buffers = [];\n",
              "      let downloaded = 0;\n",
              "\n",
              "      const channel = await google.colab.kernel.comms.open(id);\n",
              "      // Send a message to notify the kernel that we're ready.\n",
              "      channel.send({})\n",
              "\n",
              "      for await (const message of channel.messages) {\n",
              "        // Send a message to notify the kernel that we're ready.\n",
              "        channel.send({})\n",
              "        if (message.buffers) {\n",
              "          for (const buffer of message.buffers) {\n",
              "            buffers.push(buffer);\n",
              "            downloaded += buffer.byteLength;\n",
              "            progress.value = downloaded;\n",
              "          }\n",
              "        }\n",
              "      }\n",
              "      const blob = new Blob(buffers, {type: 'application/binary'});\n",
              "      const a = document.createElement('a');\n",
              "      a.href = window.URL.createObjectURL(blob);\n",
              "      a.download = filename;\n",
              "      div.appendChild(a);\n",
              "      a.click();\n",
              "      div.remove();\n",
              "    }\n",
              "  "
            ]
          },
          "metadata": {}
        },
        {
          "output_type": "display_data",
          "data": {
            "text/plain": [
              "<IPython.core.display.Javascript object>"
            ],
            "application/javascript": [
              "download(\"download_76e37d93-269c-45a2-9f6a-815c10cf983c\", \"scaler.pkl\", 1079)"
            ]
          },
          "metadata": {}
        }
      ]
    },
    {
      "cell_type": "code",
      "source": [],
      "metadata": {
        "id": "DOVvJ9gVCAmq"
      },
      "execution_count": null,
      "outputs": []
    }
  ]
}